{
 "cells": [
  {
   "cell_type": "code",
   "execution_count": 1,
   "metadata": {},
   "outputs": [
    {
     "name": "stdout",
     "output_type": "stream",
     "text": [
      "\u001b[33mWARNING: Running pip as the 'root' user can result in broken permissions and conflicting behaviour with the system package manager. It is recommended to use a virtual environment instead: https://pip.pypa.io/warnings/venv\u001b[0m\u001b[33m\n",
      "Reading package lists... Done\n",
      "Building dependency tree       \n",
      "Reading state information... Done\n",
      "fonts-nanum is already the newest version (20180306-3).\n",
      "0 upgraded, 0 newly installed, 0 to remove and 14 not upgraded.\n"
     ]
    }
   ],
   "source": [
    "!pip install -q eli5==0.13.0\n",
    "\n",
    "# 한글 폰트 사용을 위한 라이브러리입니다.\n",
    "!apt-get install -y fonts-nanum"
   ]
  },
  {
   "cell_type": "markdown",
   "metadata": {},
   "source": [
    "# 1. Library import"
   ]
  },
  {
   "cell_type": "code",
   "execution_count": 2,
   "metadata": {},
   "outputs": [],
   "source": [
    "# visualization\n",
    "import matplotlib.pyplot as plt\n",
    "import matplotlib.font_manager as fm\n",
    "import seaborn as sns\n",
    "\n",
    "# utils\n",
    "import pandas as pd\n",
    "import numpy as np\n",
    "from tqdm import tqdm\n",
    "import warnings;warnings.filterwarnings('ignore')\n",
    "\n",
    "# Model\n",
    "from sklearn.preprocessing import LabelEncoder\n",
    "from sklearn.model_selection import train_test_split\n",
    "from sklearn.metrics import mean_squared_error\n",
    "from lightgbm import LGBMRegressor\n",
    "\n",
    "fe = fm.FontEntry(\n",
    "    fname=r'/usr/share/fonts/truetype/nanum/NanumGothic.ttf', # ttf 파일이 저장되어 있는 경로\n",
    "    name='NanumBarunGothic')                        # 이 폰트의 원하는 이름 설정\n",
    "fm.fontManager.ttflist.insert(0, fe)              # Matplotlib에 폰트 추가\n",
    "plt.rcParams.update({'font.size': 10, 'font.family': 'NanumBarunGothic'}) # 폰트 설정\n",
    "plt.rc('font', family='NanumBarunGothic')"
   ]
  },
  {
   "cell_type": "markdown",
   "metadata": {},
   "source": [
    "# 2. Data Load"
   ]
  },
  {
   "cell_type": "code",
   "execution_count": 3,
   "metadata": {},
   "outputs": [
    {
     "name": "stdout",
     "output_type": "stream",
     "text": [
      "Train data shape :  (1128094, 39)\n"
     ]
    }
   ],
   "source": [
    "# 필요한 데이터 load\n",
    "data_path = '/data/ephemeral/home/final_data.csv'\n",
    "data = pd.read_csv(data_path)\n",
    "\n",
    "# 기본 데이터의 shape 출력\n",
    "print('Train data shape : ', data.shape)"
   ]
  },
  {
   "cell_type": "code",
   "execution_count": 4,
   "metadata": {},
   "outputs": [
    {
     "data": {
      "text/html": [
       "<div>\n",
       "<style scoped>\n",
       "    .dataframe tbody tr th:only-of-type {\n",
       "        vertical-align: middle;\n",
       "    }\n",
       "\n",
       "    .dataframe tbody tr th {\n",
       "        vertical-align: top;\n",
       "    }\n",
       "\n",
       "    .dataframe thead th {\n",
       "        text-align: right;\n",
       "    }\n",
       "</style>\n",
       "<table border=\"1\" class=\"dataframe\">\n",
       "  <thead>\n",
       "    <tr style=\"text-align: right;\">\n",
       "      <th></th>\n",
       "      <th>아파트명</th>\n",
       "      <th>전용면적</th>\n",
       "      <th>계약년월</th>\n",
       "      <th>계약일</th>\n",
       "      <th>층</th>\n",
       "      <th>건축년도</th>\n",
       "      <th>도로명</th>\n",
       "      <th>target</th>\n",
       "      <th>is_test</th>\n",
       "      <th>지번주소</th>\n",
       "      <th>...</th>\n",
       "      <th>도로명_실거래가순위</th>\n",
       "      <th>도로_실거래가순위</th>\n",
       "      <th>동_실거래가순위</th>\n",
       "      <th>재건축</th>\n",
       "      <th>기준금리</th>\n",
       "      <th>CLI</th>\n",
       "      <th>자치구별 지하철 승객 수</th>\n",
       "      <th>아파트전세가격지수</th>\n",
       "      <th>학군</th>\n",
       "      <th>구_연평균_표준지공시지가</th>\n",
       "    </tr>\n",
       "  </thead>\n",
       "  <tbody>\n",
       "    <tr>\n",
       "      <th>201009</th>\n",
       "      <td>개포더샵트리에</td>\n",
       "      <td>105.8064</td>\n",
       "      <td>202306</td>\n",
       "      <td>29</td>\n",
       "      <td>8</td>\n",
       "      <td>2021</td>\n",
       "      <td>개포로 311</td>\n",
       "      <td>240000.0</td>\n",
       "      <td>0</td>\n",
       "      <td>서울특별시 강남구 개포동 651-1</td>\n",
       "      <td>...</td>\n",
       "      <td>1127</td>\n",
       "      <td>77</td>\n",
       "      <td>48</td>\n",
       "      <td>0.0</td>\n",
       "      <td>3.25</td>\n",
       "      <td>72.9</td>\n",
       "      <td>161925782.0</td>\n",
       "      <td>69.3</td>\n",
       "      <td>1</td>\n",
       "      <td>1.740307e+07</td>\n",
       "    </tr>\n",
       "    <tr>\n",
       "      <th>201010</th>\n",
       "      <td>개포주공5단지</td>\n",
       "      <td>74.2500</td>\n",
       "      <td>202301</td>\n",
       "      <td>3</td>\n",
       "      <td>10</td>\n",
       "      <td>1983</td>\n",
       "      <td>삼성로4길 17</td>\n",
       "      <td>210000.0</td>\n",
       "      <td>0</td>\n",
       "      <td>서울특별시 강남구 개포동 187</td>\n",
       "      <td>...</td>\n",
       "      <td>903</td>\n",
       "      <td>30</td>\n",
       "      <td>48</td>\n",
       "      <td>0.0</td>\n",
       "      <td>3.25</td>\n",
       "      <td>72.9</td>\n",
       "      <td>161925782.0</td>\n",
       "      <td>69.3</td>\n",
       "      <td>1</td>\n",
       "      <td>1.740307e+07</td>\n",
       "    </tr>\n",
       "    <tr>\n",
       "      <th>201011</th>\n",
       "      <td>개포주공5단지</td>\n",
       "      <td>61.1900</td>\n",
       "      <td>202302</td>\n",
       "      <td>5</td>\n",
       "      <td>12</td>\n",
       "      <td>1983</td>\n",
       "      <td>삼성로4길 17</td>\n",
       "      <td>199000.0</td>\n",
       "      <td>0</td>\n",
       "      <td>서울특별시 강남구 개포동 187</td>\n",
       "      <td>...</td>\n",
       "      <td>903</td>\n",
       "      <td>30</td>\n",
       "      <td>48</td>\n",
       "      <td>0.0</td>\n",
       "      <td>3.25</td>\n",
       "      <td>73.0</td>\n",
       "      <td>161925782.0</td>\n",
       "      <td>69.2</td>\n",
       "      <td>1</td>\n",
       "      <td>1.740307e+07</td>\n",
       "    </tr>\n",
       "    <tr>\n",
       "      <th>201012</th>\n",
       "      <td>개포주공5단지</td>\n",
       "      <td>83.1700</td>\n",
       "      <td>202304</td>\n",
       "      <td>7</td>\n",
       "      <td>13</td>\n",
       "      <td>1983</td>\n",
       "      <td>삼성로4길 17</td>\n",
       "      <td>249000.0</td>\n",
       "      <td>0</td>\n",
       "      <td>서울특별시 강남구 개포동 187</td>\n",
       "      <td>...</td>\n",
       "      <td>903</td>\n",
       "      <td>30</td>\n",
       "      <td>48</td>\n",
       "      <td>0.0</td>\n",
       "      <td>3.25</td>\n",
       "      <td>73.0</td>\n",
       "      <td>161925782.0</td>\n",
       "      <td>69.2</td>\n",
       "      <td>1</td>\n",
       "      <td>1.740307e+07</td>\n",
       "    </tr>\n",
       "    <tr>\n",
       "      <th>201013</th>\n",
       "      <td>개포주공5단지</td>\n",
       "      <td>83.1700</td>\n",
       "      <td>202304</td>\n",
       "      <td>29</td>\n",
       "      <td>10</td>\n",
       "      <td>1983</td>\n",
       "      <td>삼성로4길 17</td>\n",
       "      <td>277000.0</td>\n",
       "      <td>0</td>\n",
       "      <td>서울특별시 강남구 개포동 187</td>\n",
       "      <td>...</td>\n",
       "      <td>903</td>\n",
       "      <td>30</td>\n",
       "      <td>48</td>\n",
       "      <td>0.0</td>\n",
       "      <td>3.25</td>\n",
       "      <td>72.9</td>\n",
       "      <td>161925782.0</td>\n",
       "      <td>69.3</td>\n",
       "      <td>1</td>\n",
       "      <td>1.740307e+07</td>\n",
       "    </tr>\n",
       "    <tr>\n",
       "      <th>...</th>\n",
       "      <td>...</td>\n",
       "      <td>...</td>\n",
       "      <td>...</td>\n",
       "      <td>...</td>\n",
       "      <td>...</td>\n",
       "      <td>...</td>\n",
       "      <td>...</td>\n",
       "      <td>...</td>\n",
       "      <td>...</td>\n",
       "      <td>...</td>\n",
       "      <td>...</td>\n",
       "      <td>...</td>\n",
       "      <td>...</td>\n",
       "      <td>...</td>\n",
       "      <td>...</td>\n",
       "      <td>...</td>\n",
       "      <td>...</td>\n",
       "      <td>...</td>\n",
       "      <td>...</td>\n",
       "      <td>...</td>\n",
       "      <td>...</td>\n",
       "    </tr>\n",
       "    <tr>\n",
       "      <th>1128089</th>\n",
       "      <td>신내우디안1단지</td>\n",
       "      <td>84.6500</td>\n",
       "      <td>202307</td>\n",
       "      <td>19</td>\n",
       "      <td>13</td>\n",
       "      <td>2014</td>\n",
       "      <td>신내역로1길 85</td>\n",
       "      <td>NaN</td>\n",
       "      <td>1</td>\n",
       "      <td>서울특별시 중랑구 신내동 816</td>\n",
       "      <td>...</td>\n",
       "      <td>2695</td>\n",
       "      <td>274</td>\n",
       "      <td>280</td>\n",
       "      <td>0.0</td>\n",
       "      <td>5.00</td>\n",
       "      <td>64.5</td>\n",
       "      <td>73185743.0</td>\n",
       "      <td>53.6</td>\n",
       "      <td>0</td>\n",
       "      <td>3.935362e+06</td>\n",
       "    </tr>\n",
       "    <tr>\n",
       "      <th>1128090</th>\n",
       "      <td>신내우디안1단지</td>\n",
       "      <td>84.6200</td>\n",
       "      <td>202307</td>\n",
       "      <td>25</td>\n",
       "      <td>12</td>\n",
       "      <td>2014</td>\n",
       "      <td>신내역로1길 85</td>\n",
       "      <td>NaN</td>\n",
       "      <td>1</td>\n",
       "      <td>서울특별시 중랑구 신내동 816</td>\n",
       "      <td>...</td>\n",
       "      <td>2695</td>\n",
       "      <td>274</td>\n",
       "      <td>280</td>\n",
       "      <td>0.0</td>\n",
       "      <td>4.50</td>\n",
       "      <td>63.0</td>\n",
       "      <td>73185743.0</td>\n",
       "      <td>53.4</td>\n",
       "      <td>0</td>\n",
       "      <td>3.935362e+06</td>\n",
       "    </tr>\n",
       "    <tr>\n",
       "      <th>1128091</th>\n",
       "      <td>신내우디안1단지</td>\n",
       "      <td>101.6500</td>\n",
       "      <td>202308</td>\n",
       "      <td>27</td>\n",
       "      <td>12</td>\n",
       "      <td>2014</td>\n",
       "      <td>신내역로1길 85</td>\n",
       "      <td>NaN</td>\n",
       "      <td>1</td>\n",
       "      <td>서울특별시 중랑구 신내동 816</td>\n",
       "      <td>...</td>\n",
       "      <td>2695</td>\n",
       "      <td>274</td>\n",
       "      <td>280</td>\n",
       "      <td>0.0</td>\n",
       "      <td>4.50</td>\n",
       "      <td>63.0</td>\n",
       "      <td>73185743.0</td>\n",
       "      <td>53.4</td>\n",
       "      <td>0</td>\n",
       "      <td>3.935362e+06</td>\n",
       "    </tr>\n",
       "    <tr>\n",
       "      <th>1128092</th>\n",
       "      <td>신내우디안1단지</td>\n",
       "      <td>84.9400</td>\n",
       "      <td>202309</td>\n",
       "      <td>2</td>\n",
       "      <td>18</td>\n",
       "      <td>2014</td>\n",
       "      <td>신내역로1길 85</td>\n",
       "      <td>NaN</td>\n",
       "      <td>1</td>\n",
       "      <td>서울특별시 중랑구 신내동 816</td>\n",
       "      <td>...</td>\n",
       "      <td>2695</td>\n",
       "      <td>274</td>\n",
       "      <td>280</td>\n",
       "      <td>0.0</td>\n",
       "      <td>4.50</td>\n",
       "      <td>63.2</td>\n",
       "      <td>73185743.0</td>\n",
       "      <td>53.4</td>\n",
       "      <td>0</td>\n",
       "      <td>3.935362e+06</td>\n",
       "    </tr>\n",
       "    <tr>\n",
       "      <th>1128093</th>\n",
       "      <td>신내우디안1단지</td>\n",
       "      <td>84.6500</td>\n",
       "      <td>202309</td>\n",
       "      <td>4</td>\n",
       "      <td>13</td>\n",
       "      <td>2014</td>\n",
       "      <td>신내역로1길 85</td>\n",
       "      <td>NaN</td>\n",
       "      <td>1</td>\n",
       "      <td>서울특별시 중랑구 신내동 816</td>\n",
       "      <td>...</td>\n",
       "      <td>2695</td>\n",
       "      <td>274</td>\n",
       "      <td>280</td>\n",
       "      <td>0.0</td>\n",
       "      <td>5.00</td>\n",
       "      <td>64.5</td>\n",
       "      <td>73185743.0</td>\n",
       "      <td>53.6</td>\n",
       "      <td>0</td>\n",
       "      <td>3.935362e+06</td>\n",
       "    </tr>\n",
       "  </tbody>\n",
       "</table>\n",
       "<p>165862 rows × 39 columns</p>\n",
       "</div>"
      ],
      "text/plain": [
       "             아파트명      전용면적    계약년월  계약일   층  건축년도        도로명    target  \\\n",
       "201009    개포더샵트리에  105.8064  202306   29   8  2021    개포로 311  240000.0   \n",
       "201010    개포주공5단지   74.2500  202301    3  10  1983   삼성로4길 17  210000.0   \n",
       "201011    개포주공5단지   61.1900  202302    5  12  1983   삼성로4길 17  199000.0   \n",
       "201012    개포주공5단지   83.1700  202304    7  13  1983   삼성로4길 17  249000.0   \n",
       "201013    개포주공5단지   83.1700  202304   29  10  1983   삼성로4길 17  277000.0   \n",
       "...           ...       ...     ...  ...  ..   ...        ...       ...   \n",
       "1128089  신내우디안1단지   84.6500  202307   19  13  2014  신내역로1길 85       NaN   \n",
       "1128090  신내우디안1단지   84.6200  202307   25  12  2014  신내역로1길 85       NaN   \n",
       "1128091  신내우디안1단지  101.6500  202308   27  12  2014  신내역로1길 85       NaN   \n",
       "1128092  신내우디안1단지   84.9400  202309    2  18  2014  신내역로1길 85       NaN   \n",
       "1128093  신내우디안1단지   84.6500  202309    4  13  2014  신내역로1길 85       NaN   \n",
       "\n",
       "         is_test                 지번주소  ...  도로명_실거래가순위  도로_실거래가순위 동_실거래가순위  \\\n",
       "201009         0  서울특별시 강남구 개포동 651-1  ...        1127         77       48   \n",
       "201010         0    서울특별시 강남구 개포동 187  ...         903         30       48   \n",
       "201011         0    서울특별시 강남구 개포동 187  ...         903         30       48   \n",
       "201012         0    서울특별시 강남구 개포동 187  ...         903         30       48   \n",
       "201013         0    서울특별시 강남구 개포동 187  ...         903         30       48   \n",
       "...          ...                  ...  ...         ...        ...      ...   \n",
       "1128089        1    서울특별시 중랑구 신내동 816  ...        2695        274      280   \n",
       "1128090        1    서울특별시 중랑구 신내동 816  ...        2695        274      280   \n",
       "1128091        1    서울특별시 중랑구 신내동 816  ...        2695        274      280   \n",
       "1128092        1    서울특별시 중랑구 신내동 816  ...        2695        274      280   \n",
       "1128093        1    서울특별시 중랑구 신내동 816  ...        2695        274      280   \n",
       "\n",
       "         재건축  기준금리   CLI 자치구별 지하철 승객 수  아파트전세가격지수  학군  구_연평균_표준지공시지가  \n",
       "201009   0.0  3.25  72.9   161925782.0       69.3   1   1.740307e+07  \n",
       "201010   0.0  3.25  72.9   161925782.0       69.3   1   1.740307e+07  \n",
       "201011   0.0  3.25  73.0   161925782.0       69.2   1   1.740307e+07  \n",
       "201012   0.0  3.25  73.0   161925782.0       69.2   1   1.740307e+07  \n",
       "201013   0.0  3.25  72.9   161925782.0       69.3   1   1.740307e+07  \n",
       "...      ...   ...   ...           ...        ...  ..            ...  \n",
       "1128089  0.0  5.00  64.5    73185743.0       53.6   0   3.935362e+06  \n",
       "1128090  0.0  4.50  63.0    73185743.0       53.4   0   3.935362e+06  \n",
       "1128091  0.0  4.50  63.0    73185743.0       53.4   0   3.935362e+06  \n",
       "1128092  0.0  4.50  63.2    73185743.0       53.4   0   3.935362e+06  \n",
       "1128093  0.0  5.00  64.5    73185743.0       53.6   0   3.935362e+06  \n",
       "\n",
       "[165862 rows x 39 columns]"
      ]
     },
     "execution_count": 4,
     "metadata": {},
     "output_type": "execute_result"
    }
   ],
   "source": [
    "# 2020년 이후 데이터만 사용\n",
    "data = data[data['계약년'] >= 2020]\n",
    "data"
   ]
  },
  {
   "cell_type": "code",
   "execution_count": 5,
   "metadata": {},
   "outputs": [
    {
     "data": {
      "text/plain": [
       "Index(['아파트명', '전용면적', '계약년월', '계약일', '층', '건축년도', '도로명', 'target', 'is_test',\n",
       "       '지번주소', '좌표X', '좌표Y', 'k-복도유형', 'k-단지분류', '주차대수', '구', '동', '계약년',\n",
       "       '계약월', '계약년월일', '도로', '강남여부', '부촌여부', '상위아파트여부', '동별최고가아파트까지의거리',\n",
       "       '브랜드명', '건물나이', '대장아파트거리', '인근지하철역개수', '신주소기준순위', '도로기준순위', '행정동기준순위',\n",
       "       '재건축', '기준금리', 'CLI', '자치구별 지하철 승객 수', '아파트전세가격지수', '학군', '공시지가'],\n",
       "      dtype='object')"
      ]
     },
     "execution_count": 5,
     "metadata": {},
     "output_type": "execute_result"
    }
   ],
   "source": [
    "# 칼럼 이름 변경 \n",
    "\n",
    "data = data.rename(columns={\n",
    "    \"구_연평균_표준지공시지가\" : \"공시지가\",\n",
    "    \"도로명_실거래가순위\" : \"신주소기준순위\",\n",
    "    \"top아파트거리\" : \"동별최고가아파트까지의거리\",\n",
    "    \"동_실거래가순위\" : \"행정동기준순위\",\n",
    "    \"도로_실거래가순위\" : \"도로기준순위\",\n",
    "    \"건물연식\" : \"건물나이\"\n",
    "    }\n",
    ")\n",
    "\n",
    "data.columns"
   ]
  },
  {
   "cell_type": "code",
   "execution_count": 6,
   "metadata": {},
   "outputs": [
    {
     "data": {
      "image/png": "[encoded data removed]",
      "text/plain": [
       "<Figure size 1300x200 with 1 Axes>"
      ]
     },
     "metadata": {},
     "output_type": "display_data"
    }
   ],
   "source": [
    "# 변수별 결측치의 비율을 plot으로 그려보면 아래와 같습니다.\n",
    "fig = plt.figure(figsize=(13, 2))\n",
    "missing = data.isnull().sum() / data.shape[0]\n",
    "missing = missing[missing > 0]\n",
    "missing.sort_values(inplace=True)\n",
    "missing.plot.bar(color='orange')\n",
    "plt.title('변수별 결측치 비율')\n",
    "plt.show()"
   ]
  },
  {
   "cell_type": "code",
   "execution_count": 7,
   "metadata": {},
   "outputs": [
    {
     "data": {
      "text/plain": [
       "구\n",
       "강남구     197475.798214\n",
       "서초구     193288.986893\n",
       "용산구     175549.200341\n",
       "송파구     141337.456353\n",
       "성동구     125710.798121\n",
       "광진구     111440.788636\n",
       "마포구     107813.279425\n",
       "동작구     101841.231439\n",
       "양천구      95576.588567\n",
       "영등포구     94533.132604\n",
       "중구       91140.069152\n",
       "강동구      89379.613799\n",
       "종로구      86384.477184\n",
       "서대문구     82651.918099\n",
       "성북구      74022.882955\n",
       "동대문구     73691.972413\n",
       "강서구      71615.892676\n",
       "은평구      66540.466296\n",
       "관악구      65744.583153\n",
       "강북구      59055.489344\n",
       "노원구      57518.663856\n",
       "구로구      57087.617957\n",
       "중랑구      55637.215647\n",
       "금천구      53718.703343\n",
       "도봉구      49826.017843\n",
       "Name: target, dtype: float64"
      ]
     },
     "execution_count": 7,
     "metadata": {},
     "output_type": "execute_result"
    }
   ],
   "source": [
    "# 강남구, 서초구, 용산구, 송파구, 성동구만을 위한 고가형 모델을 따로 만드는 방식으로 접근\n",
    "data.groupby('구')['target'].mean().sort_values(ascending=False)"
   ]
  },
  {
   "cell_type": "markdown",
   "metadata": {},
   "source": [
    "# 3. 이상치 처리 > 진행 X\n",
    "- 이번엔 이상치를 처리해봅시다.\n",
    "- 이상치를 처리하는 방법은 IQR, Z-score 등 다양한 방법이 있습니다. 가장 쉽고 직관적으로 접근하는 방법은 기본 통계치를 이용하는 것입니다.\n",
    "- 본 baseline에서는 IQR를 이용한 방법을 사용하겠습니다."
   ]
  },
  {
   "cell_type": "code",
   "execution_count": 9,
   "metadata": {},
   "outputs": [
    {
     "name": "stdout",
     "output_type": "stream",
     "text": [
      "(165862, 39)\n"
     ]
    }
   ],
   "source": [
    "# 이상치 제거 이전의 shape은 아래와 같습니다.\n",
    "print(data.shape)"
   ]
  },
  {
   "cell_type": "code",
   "execution_count": 10,
   "metadata": {},
   "outputs": [],
   "source": [
    "# 이상치 제거 방법에는 IQR을 이용하겠습니다.\n",
    "def remove_outliers_iqr(dt, column_name):\n",
    "    df = dt.query('is_test == 0')       # train data 내에 있는 이상치만 제거하도록 하겠습니다.\n",
    "    df_test = dt.query('is_test == 1')\n",
    "\n",
    "    Q1 = df[column_name].quantile(0.25)\n",
    "    Q3 = df[column_name].quantile(0.75)\n",
    "    IQR = Q3 - Q1\n",
    "\n",
    "    lower_bound = Q1 - 1.5 * IQR\n",
    "    upper_bound = Q3 + 1.5 * IQR\n",
    "\n",
    "    df = df[(df[column_name] >= lower_bound) & (df[column_name] <= upper_bound)]\n",
    "\n",
    "    result = pd.concat([df, df_test])   # test data와 다시 합쳐주겠습니다.\n",
    "    return result"
   ]
  },
  {
   "cell_type": "code",
   "execution_count": 12,
   "metadata": {},
   "outputs": [
    {
     "data": {
      "text/plain": [
       "구\n",
       "강남구     197475.798214\n",
       "서초구     193288.986893\n",
       "용산구     175549.200341\n",
       "송파구     141337.456353\n",
       "성동구     125710.798121\n",
       "광진구     111440.788636\n",
       "마포구     107813.279425\n",
       "동작구     101841.231439\n",
       "양천구      95576.588567\n",
       "영등포구     94533.132604\n",
       "중구       91140.069152\n",
       "강동구      89379.613799\n",
       "종로구      86384.477184\n",
       "서대문구     82651.918099\n",
       "성북구      74022.882955\n",
       "동대문구     73691.972413\n",
       "강서구      71615.892676\n",
       "은평구      66540.466296\n",
       "관악구      65744.583153\n",
       "강북구      59055.489344\n",
       "노원구      57518.663856\n",
       "구로구      57087.617957\n",
       "중랑구      55637.215647\n",
       "금천구      53718.703343\n",
       "도봉구      49826.017843\n",
       "Name: target, dtype: float64"
      ]
     },
     "execution_count": 12,
     "metadata": {},
     "output_type": "execute_result"
    }
   ],
   "source": [
    "# 이상치 제거 후 자치구별 타겟값 \n",
    "data.groupby('구')['target'].mean().sort_values(ascending=False)"
   ]
  },
  {
   "cell_type": "code",
   "execution_count": 13,
   "metadata": {},
   "outputs": [
    {
     "name": "stdout",
     "output_type": "stream",
     "text": [
      "(165862, 39)\n"
     ]
    }
   ],
   "source": [
    "# 이상치 제거 후의 shape은 아래와 같습니다. 약 10만개의 데이터가 제거된 모습을 확인할 수 있습니다.\n",
    "print(data.shape)"
   ]
  },
  {
   "cell_type": "code",
   "execution_count": 14,
   "metadata": {},
   "outputs": [
    {
     "data": {
      "text/plain": [
       "0    156590\n",
       "1      9272\n",
       "Name: is_test, dtype: int64"
      ]
     },
     "execution_count": 14,
     "metadata": {},
     "output_type": "execute_result"
    }
   ],
   "source": [
    "# 또한, train data만 제거되었습니다.\n",
    "data['is_test'].value_counts()"
   ]
  },
  {
   "cell_type": "markdown",
   "metadata": {},
   "source": [
    "# 4. Upsampling"
   ]
  },
  {
   "cell_type": "code",
   "execution_count": 15,
   "metadata": {},
   "outputs": [],
   "source": [
    "# 데이터 수가 적은 높은 실거래가의 데이터를 복사하여 넣어줌\n",
    "df_high_cases1 = data[data['target'] >= 1300000]\n",
    "data = pd.concat([data, df_high_cases1])\n",
    "data = pd.concat([data, df_high_cases1])\n",
    "\n",
    "df_high_cases2 = data[data['target'] >= 1000000 & (data['target'] < 1300000)]\n",
    "data = pd.concat([data, df_high_cases2])\n",
    "data = pd.concat([data, df_high_cases2])"
   ]
  },
  {
   "cell_type": "code",
   "execution_count": 16,
   "metadata": {},
   "outputs": [
    {
     "data": {
      "text/plain": [
       "(479060, 39)"
      ]
     },
     "execution_count": 16,
     "metadata": {},
     "output_type": "execute_result"
    }
   ],
   "source": [
    "data.shape"
   ]
  },
  {
   "cell_type": "markdown",
   "metadata": {},
   "source": [
    "# 5. Model Training"
   ]
  },
  {
   "cell_type": "code",
   "execution_count": 17,
   "metadata": {},
   "outputs": [
    {
     "name": "stdout",
     "output_type": "stream",
     "text": [
      "(469788, 39) (9272, 39)\n"
     ]
    }
   ],
   "source": [
    "dt_train = data.query('is_test==0').reset_index()\n",
    "dt_test = data.query('is_test==1').reset_index()\n",
    "\n",
    "# 이제 is_test 칼럼은 drop해줍니다.\n",
    "dt_train.drop(['is_test'], axis = 1, inplace=True)\n",
    "dt_test.drop(['is_test'], axis = 1, inplace=True)\n",
    "print(dt_train.shape, dt_test.shape)"
   ]
  },
  {
   "cell_type": "code",
   "execution_count": 18,
   "metadata": {},
   "outputs": [],
   "source": [
    "# 사용할 컬럼만 추출 아파트명 추가\n",
    "final_cols = ['신주소기준순위', '전용면적', '계약년', '아파트명',\n",
    "                  '계약월', '도로기준순위', '좌표X', '좌표Y', '건축년도',\n",
    "                  '부촌여부', '상위아파트여부', '대장아파트거리', '행정동기준순위', '구',\n",
    "                  '주차대수', '인근지하철역개수', '브랜드명', '건물나이', '계약년월일',\n",
    "                  '동별최고가아파트까지의거리', 'target','재건축', '기준금리', 'CLI',\n",
    "                  '자치구별 지하철 승객 수', '공시지가', '아파트전세가격지수', '학군'\n",
    "                  ]\n",
    "\n",
    "dt_train = dt_train[final_cols]\n",
    "dt_test = dt_test[final_cols]"
   ]
  },
  {
   "cell_type": "markdown",
   "metadata": {},
   "source": [
    "## 5.1 고가용/저가용 모델을 위한 학습데이터 분리"
   ]
  },
  {
   "cell_type": "code",
   "execution_count": 19,
   "metadata": {},
   "outputs": [],
   "source": [
    "high_list = ['서초구', '강남구', '용산구', '송파구', '성동구']\n",
    "\n",
    "# train\n",
    "high_train = dt_train[dt_train['구'].isin(high_list)]\n",
    "low_train = dt_train[~dt_train['구'].isin(high_list)]\n",
    "\n",
    "# test\n",
    "high_test = dt_test[dt_test['구'].isin(high_list)]\n",
    "low_test = dt_test[~dt_test['구'].isin(high_list)]"
   ]
  },
  {
   "cell_type": "code",
   "execution_count": 20,
   "metadata": {},
   "outputs": [
    {
     "name": "stdout",
     "output_type": "stream",
     "text": [
      "(97422, 28) (372366, 28)\n"
     ]
    }
   ],
   "source": [
    "print(high_train.shape, low_train.shape)"
   ]
  },
  {
   "cell_type": "markdown",
   "metadata": {},
   "source": [
    "## 5.2 범주형 변수 Encoding"
   ]
  },
  {
   "cell_type": "markdown",
   "metadata": {},
   "source": [
    "- 범주형 변수는 그대로 모델에 투입하면, 모델이 제대로 작동할 수 없습니다.\n",
    "- 따라서 **레이블 인코딩 과정**을 통해 범주형 변수들을 numeric하게 바꾸는 인코딩 과정을 진행해주도록 하겠습니다."
   ]
  },
  {
   "cell_type": "code",
   "execution_count": 21,
   "metadata": {},
   "outputs": [
    {
     "name": "stdout",
     "output_type": "stream",
     "text": [
      "수치형 변수: ['신주소기준순위', '전용면적', '계약년', '계약월', '도로기준순위', '좌표X', '좌표Y', '건축년도', '부촌여부', '상위아파트여부', '대장아파트거리', '행정동기준순위', '주차대수', '인근지하철역개수', '건물나이', '계약년월일', '동별최고가아파트까지의거리', 'target', '재건축', '기준금리', 'CLI', '자치구별 지하철 승객 수', '공시지가', '아파트전세가격지수', '학군']\n",
      "범주형 변수: ['아파트명', '구', '브랜드명']\n"
     ]
    }
   ],
   "source": [
    "numerical_columns_v2 = []\n",
    "categorical_columns_v2 = []\n",
    "\n",
    "for column in dt_train.columns:\n",
    "    if pd.api.types.is_numeric_dtype(dt_train[column]):\n",
    "        numerical_columns_v2.append(column)\n",
    "    else:\n",
    "        categorical_columns_v2.append(column)\n",
    "\n",
    "print(\"수치형 변수:\", numerical_columns_v2)\n",
    "print(\"범주형 변수:\", categorical_columns_v2)"
   ]
  },
  {
   "cell_type": "markdown",
   "metadata": {},
   "source": [
    "### 5.2.1. 고가형 모델 학습 데이터"
   ]
  },
  {
   "cell_type": "code",
   "execution_count": 22,
   "metadata": {},
   "outputs": [
    {
     "name": "stderr",
     "output_type": "stream",
     "text": [
      "100%|██████████| 3/3 [00:00<00:00, 57.99it/s]\n"
     ]
    }
   ],
   "source": [
    "from sklearn.preprocessing import LabelEncoder\n",
    "from tqdm import tqdm\n",
    "import numpy as np\n",
    "\n",
    "# 각 변수에 대한 LabelEncoder를 저장할 딕셔너리\n",
    "label_encoders_high = {}\n",
    "\n",
    "# Implement Label Encoding\n",
    "for col in tqdm(categorical_columns_v2):\n",
    "    lbl = LabelEncoder()\n",
    "    \n",
    "    # 모든 데이터를 문자열로 변환\n",
    "    all_values = pd.concat([high_train[col], high_test[col]], axis=0).astype(str)\n",
    "    \n",
    "    # Label-Encoding을 fit\n",
    "    lbl.fit(all_values)\n",
    "    \n",
    "    # 변환 적용\n",
    "    high_train[col] = lbl.transform(high_train[col].astype(str))\n",
    "    high_test[col] = lbl.transform(high_test[col].astype(str))\n",
    "    \n",
    "    # 나중에 후처리를 위해 레이블인코더를 저장해주겠습니다.\n",
    "    label_encoders_high[col] = lbl"
   ]
  },
  {
   "cell_type": "code",
   "execution_count": 23,
   "metadata": {},
   "outputs": [
    {
     "data": {
      "text/html": [
       "<div>\n",
       "<style scoped>\n",
       "    .dataframe tbody tr th:only-of-type {\n",
       "        vertical-align: middle;\n",
       "    }\n",
       "\n",
       "    .dataframe tbody tr th {\n",
       "        vertical-align: top;\n",
       "    }\n",
       "\n",
       "    .dataframe thead th {\n",
       "        text-align: right;\n",
       "    }\n",
       "</style>\n",
       "<table border=\"1\" class=\"dataframe\">\n",
       "  <thead>\n",
       "    <tr style=\"text-align: right;\">\n",
       "      <th></th>\n",
       "      <th>신주소기준순위</th>\n",
       "      <th>전용면적</th>\n",
       "      <th>계약년</th>\n",
       "      <th>아파트명</th>\n",
       "      <th>계약월</th>\n",
       "      <th>도로기준순위</th>\n",
       "      <th>좌표X</th>\n",
       "      <th>좌표Y</th>\n",
       "      <th>건축년도</th>\n",
       "      <th>부촌여부</th>\n",
       "      <th>...</th>\n",
       "      <th>계약년월일</th>\n",
       "      <th>동별최고가아파트까지의거리</th>\n",
       "      <th>target</th>\n",
       "      <th>재건축</th>\n",
       "      <th>기준금리</th>\n",
       "      <th>CLI</th>\n",
       "      <th>자치구별 지하철 승객 수</th>\n",
       "      <th>공시지가</th>\n",
       "      <th>아파트전세가격지수</th>\n",
       "      <th>학군</th>\n",
       "    </tr>\n",
       "  </thead>\n",
       "  <tbody>\n",
       "    <tr>\n",
       "      <th>0</th>\n",
       "      <td>1127</td>\n",
       "      <td>105.8064</td>\n",
       "      <td>2023</td>\n",
       "      <td>85</td>\n",
       "      <td>6</td>\n",
       "      <td>77</td>\n",
       "      <td>127.056394</td>\n",
       "      <td>37.484892</td>\n",
       "      <td>2021</td>\n",
       "      <td>0</td>\n",
       "      <td>...</td>\n",
       "      <td>20230629</td>\n",
       "      <td>500.0</td>\n",
       "      <td>240000.0</td>\n",
       "      <td>0.0</td>\n",
       "      <td>3.25</td>\n",
       "      <td>72.9</td>\n",
       "      <td>161925782.0</td>\n",
       "      <td>1.740307e+07</td>\n",
       "      <td>69.3</td>\n",
       "      <td>1</td>\n",
       "    </tr>\n",
       "  </tbody>\n",
       "</table>\n",
       "<p>1 rows × 28 columns</p>\n",
       "</div>"
      ],
      "text/plain": [
       "   신주소기준순위      전용면적   계약년  아파트명  계약월  도로기준순위         좌표X        좌표Y  건축년도  \\\n",
       "0     1127  105.8064  2023    85    6      77  127.056394  37.484892  2021   \n",
       "\n",
       "   부촌여부  ...     계약년월일  동별최고가아파트까지의거리    target  재건축  기준금리   CLI  \\\n",
       "0     0  ...  20230629          500.0  240000.0  0.0  3.25  72.9   \n",
       "\n",
       "   자치구별 지하철 승객 수          공시지가  아파트전세가격지수  학군  \n",
       "0    161925782.0  1.740307e+07       69.3   1  \n",
       "\n",
       "[1 rows x 28 columns]"
      ]
     },
     "execution_count": 23,
     "metadata": {},
     "output_type": "execute_result"
    }
   ],
   "source": [
    "high_train.head(1)"
   ]
  },
  {
   "cell_type": "markdown",
   "metadata": {},
   "source": [
    "### 5.2.2. 저가형 모델 학습 데이터"
   ]
  },
  {
   "cell_type": "code",
   "execution_count": 24,
   "metadata": {},
   "outputs": [
    {
     "name": "stderr",
     "output_type": "stream",
     "text": [
      "100%|██████████| 3/3 [00:00<00:00, 15.97it/s]\n"
     ]
    }
   ],
   "source": [
    "# 각 변수에 대한 LabelEncoder를 저장할 딕셔너리\n",
    "label_encoders_low = {}\n",
    "\n",
    "# Implement Label Encoding\n",
    "for col in tqdm(categorical_columns_v2):\n",
    "    lbl = LabelEncoder()\n",
    "    \n",
    "    # 모든 데이터를 문자열로 변환\n",
    "    all_values = pd.concat([low_train[col], low_test[col]], axis=0).astype(str)\n",
    "    \n",
    "    # Label-Encoding을 fit\n",
    "    lbl.fit(all_values)\n",
    "    \n",
    "    # 변환 적용\n",
    "    low_train[col] = lbl.transform(low_train[col].astype(str))\n",
    "    low_test[col] = lbl.transform(low_test[col].astype(str))\n",
    "    \n",
    "    # 나중에 후처리를 위해 레이블인코더를 저장해주겠습니다.\n",
    "    label_encoders_low[col] = lbl"
   ]
  },
  {
   "cell_type": "code",
   "execution_count": 25,
   "metadata": {},
   "outputs": [
    {
     "data": {
      "text/html": [
       "<div>\n",
       "<style scoped>\n",
       "    .dataframe tbody tr th:only-of-type {\n",
       "        vertical-align: middle;\n",
       "    }\n",
       "\n",
       "    .dataframe tbody tr th {\n",
       "        vertical-align: top;\n",
       "    }\n",
       "\n",
       "    .dataframe thead th {\n",
       "        text-align: right;\n",
       "    }\n",
       "</style>\n",
       "<table border=\"1\" class=\"dataframe\">\n",
       "  <thead>\n",
       "    <tr style=\"text-align: right;\">\n",
       "      <th></th>\n",
       "      <th>신주소기준순위</th>\n",
       "      <th>전용면적</th>\n",
       "      <th>계약년</th>\n",
       "      <th>아파트명</th>\n",
       "      <th>계약월</th>\n",
       "      <th>도로기준순위</th>\n",
       "      <th>좌표X</th>\n",
       "      <th>좌표Y</th>\n",
       "      <th>건축년도</th>\n",
       "      <th>부촌여부</th>\n",
       "      <th>...</th>\n",
       "      <th>계약년월일</th>\n",
       "      <th>동별최고가아파트까지의거리</th>\n",
       "      <th>target</th>\n",
       "      <th>재건축</th>\n",
       "      <th>기준금리</th>\n",
       "      <th>CLI</th>\n",
       "      <th>자치구별 지하철 승객 수</th>\n",
       "      <th>공시지가</th>\n",
       "      <th>아파트전세가격지수</th>\n",
       "      <th>학군</th>\n",
       "    </tr>\n",
       "  </thead>\n",
       "  <tbody>\n",
       "    <tr>\n",
       "      <th>856</th>\n",
       "      <td>2200</td>\n",
       "      <td>59.99</td>\n",
       "      <td>2022</td>\n",
       "      <td>155</td>\n",
       "      <td>12</td>\n",
       "      <td>205</td>\n",
       "      <td>127.1731</td>\n",
       "      <td>37.572621</td>\n",
       "      <td>2020</td>\n",
       "      <td>0</td>\n",
       "      <td>...</td>\n",
       "      <td>20221229</td>\n",
       "      <td>500.0</td>\n",
       "      <td>55000.0</td>\n",
       "      <td>0.0</td>\n",
       "      <td>3.25</td>\n",
       "      <td>72.9</td>\n",
       "      <td>161925782.0</td>\n",
       "      <td>6310000.0</td>\n",
       "      <td>69.1</td>\n",
       "      <td>1</td>\n",
       "    </tr>\n",
       "  </tbody>\n",
       "</table>\n",
       "<p>1 rows × 28 columns</p>\n",
       "</div>"
      ],
      "text/plain": [
       "     신주소기준순위   전용면적   계약년  아파트명  계약월  도로기준순위       좌표X        좌표Y  건축년도  부촌여부  \\\n",
       "856     2200  59.99  2022   155   12     205  127.1731  37.572621  2020     0   \n",
       "\n",
       "     ...     계약년월일  동별최고가아파트까지의거리   target  재건축  기준금리   CLI  자치구별 지하철 승객 수  \\\n",
       "856  ...  20221229          500.0  55000.0  0.0  3.25  72.9    161925782.0   \n",
       "\n",
       "          공시지가  아파트전세가격지수  학군  \n",
       "856  6310000.0       69.1   1  \n",
       "\n",
       "[1 rows x 28 columns]"
      ]
     },
     "execution_count": 25,
     "metadata": {},
     "output_type": "execute_result"
    }
   ],
   "source": [
    "low_train.head(1)"
   ]
  },
  {
   "cell_type": "markdown",
   "metadata": {},
   "source": [
    "## 5.3 Model Training"
   ]
  },
  {
   "cell_type": "markdown",
   "metadata": {},
   "source": [
    "### 5.3.1. 고가형 모델 학습"
   ]
  },
  {
   "cell_type": "code",
   "execution_count": 26,
   "metadata": {},
   "outputs": [],
   "source": [
    "# Target과 독립변수들을 분리해줍니다.\n",
    "X_train_high_all = high_train.drop(['target', '계약년월일'], axis=1)\n",
    "y_train_high_all = high_train['target']\n",
    "\n",
    "# Custom validation split - 최근 20% 데이터를 validation set으로 나눔\n",
    "high_train = high_train.sort_values('계약년월일')\n",
    "cut = int(len(high_train)*0.9)\n",
    "train_split = high_train[:cut]\n",
    "valid_split = high_train[cut:]\n",
    "\n",
    "X_train_high = train_split.drop(['target', '계약년월일'], axis=1)\n",
    "y_train_high = train_split['target']\n",
    "X_val_high = valid_split.drop(['target', '계약년월일'], axis=1)\n",
    "y_val_high = valid_split['target']\n",
    "\n",
    "lgb_params_high = {\n",
    "            'n_estimators': 2048,          \n",
    "            'force_col_wise': True\n",
    "            }\n",
    "\n",
    "model_high = LGBMRegressor(**lgb_params_high)"
   ]
  },
  {
   "cell_type": "code",
   "execution_count": 27,
   "metadata": {},
   "outputs": [
    {
     "name": "stdout",
     "output_type": "stream",
     "text": [
      "[LightGBM] [Warning] Found whitespace in feature_names, replace with underlines\n",
      "[LightGBM] [Info] Total Bins 2503\n",
      "[LightGBM] [Info] Number of data points in the train set: 87679, number of used features: 26\n",
      "[LightGBM] [Info] Start training from score 165419.277455\n",
      "Validation RMSE: 21628.46360614712\n"
     ]
    }
   ],
   "source": [
    "# 모델 학습 및 평가\n",
    "model_high.fit(X_train_high, y_train_high)\n",
    "pred_high = model_high.predict(X_val_high)\n",
    "\n",
    "# 회귀 관련 metric을 통해 train/valid의 모델 적합 결과를 관찰합니다.\n",
    "print(f'Validation RMSE: {mean_squared_error(y_val_high, pred_high, squared=False)}')"
   ]
  },
  {
   "cell_type": "code",
   "execution_count": 28,
   "metadata": {},
   "outputs": [
    {
     "data": {
      "image/png": "[encoded data removed]",
      "text/plain": [
       "<Figure size 1000x800 with 1 Axes>"
      ]
     },
     "metadata": {},
     "output_type": "display_data"
    }
   ],
   "source": [
    "# 고가형 모델의 feature importance를 시각화해봅니다.\n",
    "importances_high = pd.Series(model_high.feature_importances_, index=list(X_train_high.columns))\n",
    "importances_high = importances_high.sort_values(ascending=False)\n",
    "\n",
    "plt.figure(figsize=(10,8))\n",
    "plt.title(\"Feature Importances\")\n",
    "sns.barplot(x=importances_high, y=importances_high.index)\n",
    "plt.show()"
   ]
  },
  {
   "cell_type": "markdown",
   "metadata": {},
   "source": [
    "### 5.3.2 저가형 모델 학습"
   ]
  },
  {
   "cell_type": "code",
   "execution_count": 29,
   "metadata": {},
   "outputs": [],
   "source": [
    "# Target과 독립변수들을 분리해줍니다.\n",
    "X_train_low_all = low_train.drop(['target', '계약년월일'], axis=1)\n",
    "y_train_low_all = low_train['target']\n",
    "\n",
    "# Custom validation split - 최근 20% 데이터를 validation set으로 나눔\n",
    "low_train = low_train.sort_values('계약년월일')\n",
    "cut = int(len(low_train)*0.9)\n",
    "train_split = low_train[:cut]\n",
    "valid_split = low_train[cut:]\n",
    "\n",
    "X_train_low = train_split.drop(['target', '계약년월일'], axis=1)\n",
    "y_train_low = train_split['target']\n",
    "X_val_low = valid_split.drop(['target', '계약년월일'], axis=1)\n",
    "y_val_low = valid_split['target']\n",
    "\n",
    "# LGBM 파라미터 설정\n",
    "lgb_params_low = {\n",
    "            'n_estimators': 2048,          \n",
    "            'force_col_wise': True\n",
    "            }\n",
    "\n",
    "model_low = LGBMRegressor(**lgb_params_low)"
   ]
  },
  {
   "cell_type": "code",
   "execution_count": 30,
   "metadata": {},
   "outputs": [
    {
     "name": "stdout",
     "output_type": "stream",
     "text": [
      "[LightGBM] [Warning] Found whitespace in feature_names, replace with underlines\n",
      "[LightGBM] [Info] Total Bins 2639\n",
      "[LightGBM] [Info] Number of data points in the train set: 335129, number of used features: 24\n",
      "[LightGBM] [Info] Start training from score 73419.339183\n",
      "Validation RMSE: 9695.083666061702\n"
     ]
    }
   ],
   "source": [
    "# 모델 학습 및 평가\n",
    "model_low.fit(X_train_low, y_train_low)\n",
    "pred_row = model_low.predict(X_val_low)\n",
    "\n",
    "# 회귀 관련 metric을 통해 train/valid의 모델 적합 결과를 관찰합니다.\n",
    "print(f'Validation RMSE: {mean_squared_error(y_val_low, pred_row, squared=False)}')"
   ]
  },
  {
   "cell_type": "code",
   "execution_count": 31,
   "metadata": {},
   "outputs": [
    {
     "data": {
      "image/png": "[encoded data removed]",
      "text/plain": [
       "<Figure size 1000x800 with 1 Axes>"
      ]
     },
     "metadata": {},
     "output_type": "display_data"
    }
   ],
   "source": [
    "# 저가형 모델의 feature importance를 시각화해봅니다.\n",
    "importances_low = pd.Series(model_low.feature_importances_, index=list(X_train_low.columns))\n",
    "importances_low = importances_low.sort_values(ascending=False)\n",
    "\n",
    "plt.figure(figsize=(10,8))\n",
    "plt.title(\"Feature Importances\")\n",
    "sns.barplot(x=importances_low, y=importances_low.index)\n",
    "plt.show()"
   ]
  },
  {
   "cell_type": "markdown",
   "metadata": {},
   "source": [
    "# 6. Inference"
   ]
  },
  {
   "cell_type": "code",
   "execution_count": 32,
   "metadata": {},
   "outputs": [
    {
     "data": {
      "text/html": [
       "<div>\n",
       "<style scoped>\n",
       "    .dataframe tbody tr th:only-of-type {\n",
       "        vertical-align: middle;\n",
       "    }\n",
       "\n",
       "    .dataframe tbody tr th {\n",
       "        vertical-align: top;\n",
       "    }\n",
       "\n",
       "    .dataframe thead th {\n",
       "        text-align: right;\n",
       "    }\n",
       "</style>\n",
       "<table border=\"1\" class=\"dataframe\">\n",
       "  <thead>\n",
       "    <tr style=\"text-align: right;\">\n",
       "      <th></th>\n",
       "      <th>신주소기준순위</th>\n",
       "      <th>전용면적</th>\n",
       "      <th>계약년</th>\n",
       "      <th>아파트명</th>\n",
       "      <th>계약월</th>\n",
       "      <th>도로기준순위</th>\n",
       "      <th>좌표X</th>\n",
       "      <th>좌표Y</th>\n",
       "      <th>건축년도</th>\n",
       "      <th>부촌여부</th>\n",
       "      <th>...</th>\n",
       "      <th>계약년월일</th>\n",
       "      <th>동별최고가아파트까지의거리</th>\n",
       "      <th>target</th>\n",
       "      <th>재건축</th>\n",
       "      <th>기준금리</th>\n",
       "      <th>CLI</th>\n",
       "      <th>자치구별 지하철 승객 수</th>\n",
       "      <th>공시지가</th>\n",
       "      <th>아파트전세가격지수</th>\n",
       "      <th>학군</th>\n",
       "    </tr>\n",
       "  </thead>\n",
       "  <tbody>\n",
       "    <tr>\n",
       "      <th>0</th>\n",
       "      <td>927</td>\n",
       "      <td>79.9700</td>\n",
       "      <td>2023</td>\n",
       "      <td>개포6차우성</td>\n",
       "      <td>7</td>\n",
       "      <td>35</td>\n",
       "      <td>127.057210</td>\n",
       "      <td>37.476763</td>\n",
       "      <td>1987</td>\n",
       "      <td>0</td>\n",
       "      <td>...</td>\n",
       "      <td>20230726</td>\n",
       "      <td>500.0</td>\n",
       "      <td>NaN</td>\n",
       "      <td>0.0</td>\n",
       "      <td>4.5</td>\n",
       "      <td>62.6</td>\n",
       "      <td>73185743.0</td>\n",
       "      <td>1.740307e+07</td>\n",
       "      <td>52.7</td>\n",
       "      <td>1</td>\n",
       "    </tr>\n",
       "    <tr>\n",
       "      <th>1</th>\n",
       "      <td>1127</td>\n",
       "      <td>108.2017</td>\n",
       "      <td>2023</td>\n",
       "      <td>개포더샵트리에</td>\n",
       "      <td>8</td>\n",
       "      <td>77</td>\n",
       "      <td>127.056394</td>\n",
       "      <td>37.484892</td>\n",
       "      <td>2021</td>\n",
       "      <td>0</td>\n",
       "      <td>...</td>\n",
       "      <td>20230815</td>\n",
       "      <td>500.0</td>\n",
       "      <td>NaN</td>\n",
       "      <td>0.0</td>\n",
       "      <td>4.5</td>\n",
       "      <td>62.8</td>\n",
       "      <td>73185743.0</td>\n",
       "      <td>1.740307e+07</td>\n",
       "      <td>53.1</td>\n",
       "      <td>1</td>\n",
       "    </tr>\n",
       "  </tbody>\n",
       "</table>\n",
       "<p>2 rows × 28 columns</p>\n",
       "</div>"
      ],
      "text/plain": [
       "   신주소기준순위      전용면적   계약년     아파트명  계약월  도로기준순위         좌표X        좌표Y  건축년도  \\\n",
       "0      927   79.9700  2023   개포6차우성    7      35  127.057210  37.476763  1987   \n",
       "1     1127  108.2017  2023  개포더샵트리에    8      77  127.056394  37.484892  2021   \n",
       "\n",
       "   부촌여부  ...     계약년월일  동별최고가아파트까지의거리  target  재건축  기준금리   CLI 자치구별 지하철 승객 수  \\\n",
       "0     0  ...  20230726          500.0     NaN  0.0   4.5  62.6    73185743.0   \n",
       "1     0  ...  20230815          500.0     NaN  0.0   4.5  62.8    73185743.0   \n",
       "\n",
       "           공시지가  아파트전세가격지수  학군  \n",
       "0  1.740307e+07       52.7   1  \n",
       "1  1.740307e+07       53.1   1  \n",
       "\n",
       "[2 rows x 28 columns]"
      ]
     },
     "execution_count": 32,
     "metadata": {},
     "output_type": "execute_result"
    }
   ],
   "source": [
    " # test dataset에 대한 inference를 진행해보겠습니다.\n",
    "dt_test.head(2)"
   ]
  },
  {
   "cell_type": "markdown",
   "metadata": {},
   "source": [
    "## 6.1 고가용 모델 추론"
   ]
  },
  {
   "cell_type": "code",
   "execution_count": 33,
   "metadata": {},
   "outputs": [
    {
     "data": {
      "text/html": [
       "<div>\n",
       "<style scoped>\n",
       "    .dataframe tbody tr th:only-of-type {\n",
       "        vertical-align: middle;\n",
       "    }\n",
       "\n",
       "    .dataframe tbody tr th {\n",
       "        vertical-align: top;\n",
       "    }\n",
       "\n",
       "    .dataframe thead th {\n",
       "        text-align: right;\n",
       "    }\n",
       "</style>\n",
       "<table border=\"1\" class=\"dataframe\">\n",
       "  <thead>\n",
       "    <tr style=\"text-align: right;\">\n",
       "      <th></th>\n",
       "      <th>신주소기준순위</th>\n",
       "      <th>전용면적</th>\n",
       "      <th>계약년</th>\n",
       "      <th>아파트명</th>\n",
       "      <th>계약월</th>\n",
       "      <th>도로기준순위</th>\n",
       "      <th>좌표X</th>\n",
       "      <th>좌표Y</th>\n",
       "      <th>건축년도</th>\n",
       "      <th>부촌여부</th>\n",
       "      <th>...</th>\n",
       "      <th>브랜드명</th>\n",
       "      <th>건물나이</th>\n",
       "      <th>동별최고가아파트까지의거리</th>\n",
       "      <th>재건축</th>\n",
       "      <th>기준금리</th>\n",
       "      <th>CLI</th>\n",
       "      <th>자치구별 지하철 승객 수</th>\n",
       "      <th>공시지가</th>\n",
       "      <th>아파트전세가격지수</th>\n",
       "      <th>학군</th>\n",
       "    </tr>\n",
       "  </thead>\n",
       "  <tbody>\n",
       "    <tr>\n",
       "      <th>0</th>\n",
       "      <td>927</td>\n",
       "      <td>79.9700</td>\n",
       "      <td>2023</td>\n",
       "      <td>84</td>\n",
       "      <td>7</td>\n",
       "      <td>35</td>\n",
       "      <td>127.057210</td>\n",
       "      <td>37.476763</td>\n",
       "      <td>1987</td>\n",
       "      <td>0</td>\n",
       "      <td>...</td>\n",
       "      <td>23</td>\n",
       "      <td>36</td>\n",
       "      <td>500.0</td>\n",
       "      <td>0.0</td>\n",
       "      <td>4.5</td>\n",
       "      <td>62.6</td>\n",
       "      <td>73185743.0</td>\n",
       "      <td>1.740307e+07</td>\n",
       "      <td>52.7</td>\n",
       "      <td>1</td>\n",
       "    </tr>\n",
       "    <tr>\n",
       "      <th>1</th>\n",
       "      <td>1127</td>\n",
       "      <td>108.2017</td>\n",
       "      <td>2023</td>\n",
       "      <td>85</td>\n",
       "      <td>8</td>\n",
       "      <td>77</td>\n",
       "      <td>127.056394</td>\n",
       "      <td>37.484892</td>\n",
       "      <td>2021</td>\n",
       "      <td>0</td>\n",
       "      <td>...</td>\n",
       "      <td>7</td>\n",
       "      <td>2</td>\n",
       "      <td>500.0</td>\n",
       "      <td>0.0</td>\n",
       "      <td>4.5</td>\n",
       "      <td>62.8</td>\n",
       "      <td>73185743.0</td>\n",
       "      <td>1.740307e+07</td>\n",
       "      <td>53.1</td>\n",
       "      <td>1</td>\n",
       "    </tr>\n",
       "  </tbody>\n",
       "</table>\n",
       "<p>2 rows × 26 columns</p>\n",
       "</div>"
      ],
      "text/plain": [
       "   신주소기준순위      전용면적   계약년  아파트명  계약월  도로기준순위         좌표X        좌표Y  건축년도  \\\n",
       "0      927   79.9700  2023    84    7      35  127.057210  37.476763  1987   \n",
       "1     1127  108.2017  2023    85    8      77  127.056394  37.484892  2021   \n",
       "\n",
       "   부촌여부  ...  브랜드명  건물나이  동별최고가아파트까지의거리  재건축  기준금리   CLI  자치구별 지하철 승객 수  \\\n",
       "0     0  ...    23    36          500.0  0.0   4.5  62.6     73185743.0   \n",
       "1     0  ...     7     2          500.0  0.0   4.5  62.8     73185743.0   \n",
       "\n",
       "           공시지가  아파트전세가격지수  학군  \n",
       "0  1.740307e+07       52.7   1  \n",
       "1  1.740307e+07       53.1   1  \n",
       "\n",
       "[2 rows x 26 columns]"
      ]
     },
     "execution_count": 33,
     "metadata": {},
     "output_type": "execute_result"
    }
   ],
   "source": [
    "# 고가용 모델 추론을 위한 데이터\n",
    "X_test_high = high_test.drop(['target', '계약년월일'], axis=1)\n",
    "X_test_high.head(2)"
   ]
  },
  {
   "cell_type": "code",
   "execution_count": 34,
   "metadata": {},
   "outputs": [
    {
     "data": {
      "text/plain": [
       "array([192427.76151075, 248870.86991828, 327213.05693157, ...,\n",
       "        99207.14570265,  99578.753222  ,  96760.08941163])"
      ]
     },
     "execution_count": 34,
     "metadata": {},
     "output_type": "execute_result"
    }
   ],
   "source": [
    "# 고가형 모델 추론 결과\n",
    "high_pred = model_high.predict(X_test_high)\n",
    "high_pred"
   ]
  },
  {
   "cell_type": "markdown",
   "metadata": {},
   "source": [
    "## 6.2 저가용 모델 추론"
   ]
  },
  {
   "cell_type": "code",
   "execution_count": 35,
   "metadata": {},
   "outputs": [
    {
     "data": {
      "text/html": [
       "<div>\n",
       "<style scoped>\n",
       "    .dataframe tbody tr th:only-of-type {\n",
       "        vertical-align: middle;\n",
       "    }\n",
       "\n",
       "    .dataframe tbody tr th {\n",
       "        vertical-align: top;\n",
       "    }\n",
       "\n",
       "    .dataframe thead th {\n",
       "        text-align: right;\n",
       "    }\n",
       "</style>\n",
       "<table border=\"1\" class=\"dataframe\">\n",
       "  <thead>\n",
       "    <tr style=\"text-align: right;\">\n",
       "      <th></th>\n",
       "      <th>신주소기준순위</th>\n",
       "      <th>전용면적</th>\n",
       "      <th>계약년</th>\n",
       "      <th>아파트명</th>\n",
       "      <th>계약월</th>\n",
       "      <th>도로기준순위</th>\n",
       "      <th>좌표X</th>\n",
       "      <th>좌표Y</th>\n",
       "      <th>건축년도</th>\n",
       "      <th>부촌여부</th>\n",
       "      <th>...</th>\n",
       "      <th>브랜드명</th>\n",
       "      <th>건물나이</th>\n",
       "      <th>동별최고가아파트까지의거리</th>\n",
       "      <th>재건축</th>\n",
       "      <th>기준금리</th>\n",
       "      <th>CLI</th>\n",
       "      <th>자치구별 지하철 승객 수</th>\n",
       "      <th>공시지가</th>\n",
       "      <th>아파트전세가격지수</th>\n",
       "      <th>학군</th>\n",
       "    </tr>\n",
       "  </thead>\n",
       "  <tbody>\n",
       "    <tr>\n",
       "      <th>343</th>\n",
       "      <td>2200</td>\n",
       "      <td>49.82</td>\n",
       "      <td>2023</td>\n",
       "      <td>155</td>\n",
       "      <td>7</td>\n",
       "      <td>205</td>\n",
       "      <td>127.1731</td>\n",
       "      <td>37.572621</td>\n",
       "      <td>2020</td>\n",
       "      <td>0</td>\n",
       "      <td>...</td>\n",
       "      <td>2</td>\n",
       "      <td>3</td>\n",
       "      <td>500.0</td>\n",
       "      <td>0.0</td>\n",
       "      <td>5.0</td>\n",
       "      <td>64.8</td>\n",
       "      <td>73185743.0</td>\n",
       "      <td>5.916253e+06</td>\n",
       "      <td>53.6</td>\n",
       "      <td>0</td>\n",
       "    </tr>\n",
       "    <tr>\n",
       "      <th>344</th>\n",
       "      <td>2200</td>\n",
       "      <td>49.82</td>\n",
       "      <td>2023</td>\n",
       "      <td>155</td>\n",
       "      <td>7</td>\n",
       "      <td>205</td>\n",
       "      <td>127.1731</td>\n",
       "      <td>37.572621</td>\n",
       "      <td>2020</td>\n",
       "      <td>0</td>\n",
       "      <td>...</td>\n",
       "      <td>2</td>\n",
       "      <td>3</td>\n",
       "      <td>500.0</td>\n",
       "      <td>0.0</td>\n",
       "      <td>5.0</td>\n",
       "      <td>64.6</td>\n",
       "      <td>73185743.0</td>\n",
       "      <td>5.916253e+06</td>\n",
       "      <td>53.7</td>\n",
       "      <td>0</td>\n",
       "    </tr>\n",
       "  </tbody>\n",
       "</table>\n",
       "<p>2 rows × 26 columns</p>\n",
       "</div>"
      ],
      "text/plain": [
       "     신주소기준순위   전용면적   계약년  아파트명  계약월  도로기준순위       좌표X        좌표Y  건축년도  부촌여부  \\\n",
       "343     2200  49.82  2023   155    7     205  127.1731  37.572621  2020     0   \n",
       "344     2200  49.82  2023   155    7     205  127.1731  37.572621  2020     0   \n",
       "\n",
       "     ...  브랜드명  건물나이  동별최고가아파트까지의거리  재건축  기준금리   CLI  자치구별 지하철 승객 수  \\\n",
       "343  ...     2     3          500.0  0.0   5.0  64.8     73185743.0   \n",
       "344  ...     2     3          500.0  0.0   5.0  64.6     73185743.0   \n",
       "\n",
       "             공시지가  아파트전세가격지수  학군  \n",
       "343  5.916253e+06       53.6   0  \n",
       "344  5.916253e+06       53.7   0  \n",
       "\n",
       "[2 rows x 26 columns]"
      ]
     },
     "execution_count": 35,
     "metadata": {},
     "output_type": "execute_result"
    }
   ],
   "source": [
    "# 저가용 모델 추론을 위한 데이터\n",
    "X_test_low = low_test.drop(['target', '계약년월일'], axis=1)\n",
    "X_test_low.head(2)"
   ]
  },
  {
   "cell_type": "code",
   "execution_count": 36,
   "metadata": {},
   "outputs": [
    {
     "data": {
      "text/plain": [
       "array([55354.78906683, 55354.78906683, 55810.93404217, ...,\n",
       "       84734.86200882, 76741.18993323, 78070.79117097])"
      ]
     },
     "execution_count": 36,
     "metadata": {},
     "output_type": "execute_result"
    }
   ],
   "source": [
    "# 저가형 모델 추론 결과\n",
    "low_pred = model_low.predict(X_test_low)\n",
    "low_pred"
   ]
  },
  {
   "cell_type": "markdown",
   "metadata": {},
   "source": [
    "## 7. Output File Save"
   ]
  },
  {
   "cell_type": "code",
   "execution_count": 37,
   "metadata": {},
   "outputs": [],
   "source": [
    "dt_test['target'] = 0\n",
    "\n",
    "# 고가형 모델 추론 결과 넣기\n",
    "dt_test.loc[high_test.index, 'target'] = high_pred\n",
    "\n",
    "# 저가형 모델 추론 결과 넣기\n",
    "dt_test.loc[low_test.index, 'target'] = low_pred"
   ]
  },
  {
   "cell_type": "code",
   "execution_count": 38,
   "metadata": {},
   "outputs": [
    {
     "data": {
      "text/plain": [
       "0       192427\n",
       "1       248870\n",
       "2       327213\n",
       "3       291072\n",
       "4       235264\n",
       "         ...  \n",
       "9267     77163\n",
       "9268     77169\n",
       "9269     84734\n",
       "9270     76741\n",
       "9271     78070\n",
       "Name: target, Length: 9272, dtype: int64"
      ]
     },
     "execution_count": 38,
     "metadata": {},
     "output_type": "execute_result"
    }
   ],
   "source": [
    "# 최종 추론 결과 확인\n",
    "dt_test['target'].astype(int)"
   ]
  },
  {
   "cell_type": "code",
   "execution_count": 39,
   "metadata": {},
   "outputs": [],
   "source": [
    "# 추론 결과 저장\n",
    "dt_test['target'].astype(int).to_csv('../output_ensemble.csv', index=False)"
   ]
  }
 ],
 "metadata": {
  "kernelspec": {
   "display_name": "base",
   "language": "python",
   "name": "python3"
  },
  "language_info": {
   "codemirror_mode": {
    "name": "ipython",
    "version": 3
   },
   "file_extension": ".py",
   "mimetype": "text/x-python",
   "name": "python",
   "nbconvert_exporter": "python",
   "pygments_lexer": "ipython3",
   "version": "3.10.13"
  }
 },
 "nbformat": 4,
 "nbformat_minor": 2
}
